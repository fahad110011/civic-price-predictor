{
  "nbformat": 4,
  "nbformat_minor": 0,
  "metadata": {
    "colab": {
      "provenance": [],
      "authorship_tag": "ABX9TyOPjumIhtw8/GnNedP0YAIu",
      "include_colab_link": true
    },
    "kernelspec": {
      "name": "python3",
      "display_name": "Python 3"
    },
    "language_info": {
      "name": "python"
    }
  },
  "cells": [
    {
      "cell_type": "markdown",
      "metadata": {
        "id": "view-in-github",
        "colab_type": "text"
      },
      "source": [
        "<a href=\"https://colab.research.google.com/github/fahad110011/civic-price-predictor/blob/main/notebooks/03_modeling.ipynb\" target=\"_parent\"><img src=\"https://colab.research.google.com/assets/colab-badge.svg\" alt=\"Open In Colab\"/></a>"
      ]
    },
    {
      "cell_type": "code",
      "source": [
        "# 1. Remove any old scikit-learn\n",
        "!pip uninstall -y scikit-learn -q\n",
        "\n",
        "# 2. Install the exact versions you’re matching locally\n",
        "!pip install -q scikit-learn==1.6.1 xgboost==2.0.3 joblib pandas numpy\n"
      ],
      "metadata": {
        "id": "-AKBnF5jJKkl"
      },
      "execution_count": 3,
      "outputs": []
    },
    {
      "cell_type": "code",
      "source": [
        "!pip install -q scikit-learn==1.6.1 xgboost==2.0.3 joblib pandas\n"
      ],
      "metadata": {
        "id": "cVjUqrOvHY1c"
      },
      "execution_count": 4,
      "outputs": []
    },
    {
      "cell_type": "code",
      "source": [
        "import sklearn, xgboost, sys\n",
        "print(\"scikit-learn:\", sklearn.__version__)\n",
        "print(\"XGBoost:     \", xgboost.__version__)\n",
        "print(\"Python:      \", sys.version.split()[0])\n"
      ],
      "metadata": {
        "id": "pmMYbEi_Jd13",
        "outputId": "c2f42dee-6f4a-440f-fc0c-6f4f5b24bf8b",
        "colab": {
          "base_uri": "https://localhost:8080/"
        }
      },
      "execution_count": 5,
      "outputs": [
        {
          "output_type": "stream",
          "name": "stdout",
          "text": [
            "scikit-learn: 1.6.1\n",
            "XGBoost:      2.0.3\n",
            "Python:       3.11.13\n"
          ]
        }
      ]
    },
    {
      "cell_type": "code",
      "source": [
        "# ─── Cell 1: Install dependencies ───────────────────────────────────────────────\n",
        "%%bash\n",
        "pip install xgboost scikit-learn matplotlib\n"
      ],
      "metadata": {
        "id": "EhyfWqJFWTMo",
        "outputId": "8b27bbff-3051-4444-cb9a-80da6b274039",
        "colab": {
          "base_uri": "https://localhost:8080/"
        }
      },
      "execution_count": 6,
      "outputs": [
        {
          "output_type": "stream",
          "name": "stdout",
          "text": [
            "Requirement already satisfied: xgboost in /usr/local/lib/python3.11/dist-packages (2.0.3)\n",
            "Requirement already satisfied: scikit-learn in /usr/local/lib/python3.11/dist-packages (1.6.1)\n",
            "Requirement already satisfied: matplotlib in /usr/local/lib/python3.11/dist-packages (3.10.0)\n",
            "Requirement already satisfied: numpy in /usr/local/lib/python3.11/dist-packages (from xgboost) (2.0.2)\n",
            "Requirement already satisfied: scipy in /usr/local/lib/python3.11/dist-packages (from xgboost) (1.15.3)\n",
            "Requirement already satisfied: joblib>=1.2.0 in /usr/local/lib/python3.11/dist-packages (from scikit-learn) (1.5.1)\n",
            "Requirement already satisfied: threadpoolctl>=3.1.0 in /usr/local/lib/python3.11/dist-packages (from scikit-learn) (3.6.0)\n",
            "Requirement already satisfied: contourpy>=1.0.1 in /usr/local/lib/python3.11/dist-packages (from matplotlib) (1.3.2)\n",
            "Requirement already satisfied: cycler>=0.10 in /usr/local/lib/python3.11/dist-packages (from matplotlib) (0.12.1)\n",
            "Requirement already satisfied: fonttools>=4.22.0 in /usr/local/lib/python3.11/dist-packages (from matplotlib) (4.58.4)\n",
            "Requirement already satisfied: kiwisolver>=1.3.1 in /usr/local/lib/python3.11/dist-packages (from matplotlib) (1.4.8)\n",
            "Requirement already satisfied: packaging>=20.0 in /usr/local/lib/python3.11/dist-packages (from matplotlib) (24.2)\n",
            "Requirement already satisfied: pillow>=8 in /usr/local/lib/python3.11/dist-packages (from matplotlib) (11.2.1)\n",
            "Requirement already satisfied: pyparsing>=2.3.1 in /usr/local/lib/python3.11/dist-packages (from matplotlib) (3.2.3)\n",
            "Requirement already satisfied: python-dateutil>=2.7 in /usr/local/lib/python3.11/dist-packages (from matplotlib) (2.9.0.post0)\n",
            "Requirement already satisfied: six>=1.5 in /usr/local/lib/python3.11/dist-packages (from python-dateutil>=2.7->matplotlib) (1.17.0)\n"
          ]
        }
      ]
    },
    {
      "cell_type": "code",
      "source": [
        "# ─── Cell 2: Imports & Load Civic Data ─────────────────────────────────────────\n",
        "import pandas as pd\n",
        "import numpy as np\n",
        "import xgboost as xgb\n",
        "from sklearn.model_selection import train_test_split\n",
        "from sklearn.metrics import mean_squared_error\n",
        "import matplotlib.pyplot as plt\n",
        "\n",
        "# Load the filtered Civic subset from GitHub\n",
        "url = (\n",
        "    \"https://raw.githubusercontent.com/\"\n",
        "    \"fahad110011/civic-price-predictor/\"\n",
        "    \"main/data/raw/civic_raw.csv\"\n",
        ")\n",
        "df = pd.read_csv(url)\n",
        "\n",
        "# Clean up column names of any stray whitespace\n",
        "df.columns = df.columns.str.strip()\n",
        "\n",
        "# Verify the columns\n",
        "print(\"Columns in df:\", df.columns.tolist())\n",
        "df.head()\n"
      ],
      "metadata": {
        "id": "M1SbJPxdWdVt",
        "outputId": "68c60c38-7fe7-49f2-927c-ccb23bf10d04",
        "colab": {
          "base_uri": "https://localhost:8080/",
          "height": 223
        }
      },
      "execution_count": 7,
      "outputs": [
        {
          "output_type": "stream",
          "name": "stdout",
          "text": [
            "Columns in df: ['year', 'odometer', 'condition', 'transmission', 'state', 'price']\n"
          ]
        },
        {
          "output_type": "execute_result",
          "data": {
            "text/plain": [
              "     year  odometer  condition transmission state  price\n",
              "0  2020.0    9954.0       good        other    al  26590\n",
              "1  2018.0   28942.0       good        other    al  18590\n",
              "2  2018.0    7885.0       good        other    al  21590\n",
              "3  1995.0  215000.0       good       manual    al   3500\n",
              "4  2003.0  236890.0  excellent    automatic    al   3950"
            ],
            "text/html": [
              "\n",
              "  <div id=\"df-8e36e1a4-8af0-4972-890e-60df12207350\" class=\"colab-df-container\">\n",
              "    <div>\n",
              "<style scoped>\n",
              "    .dataframe tbody tr th:only-of-type {\n",
              "        vertical-align: middle;\n",
              "    }\n",
              "\n",
              "    .dataframe tbody tr th {\n",
              "        vertical-align: top;\n",
              "    }\n",
              "\n",
              "    .dataframe thead th {\n",
              "        text-align: right;\n",
              "    }\n",
              "</style>\n",
              "<table border=\"1\" class=\"dataframe\">\n",
              "  <thead>\n",
              "    <tr style=\"text-align: right;\">\n",
              "      <th></th>\n",
              "      <th>year</th>\n",
              "      <th>odometer</th>\n",
              "      <th>condition</th>\n",
              "      <th>transmission</th>\n",
              "      <th>state</th>\n",
              "      <th>price</th>\n",
              "    </tr>\n",
              "  </thead>\n",
              "  <tbody>\n",
              "    <tr>\n",
              "      <th>0</th>\n",
              "      <td>2020.0</td>\n",
              "      <td>9954.0</td>\n",
              "      <td>good</td>\n",
              "      <td>other</td>\n",
              "      <td>al</td>\n",
              "      <td>26590</td>\n",
              "    </tr>\n",
              "    <tr>\n",
              "      <th>1</th>\n",
              "      <td>2018.0</td>\n",
              "      <td>28942.0</td>\n",
              "      <td>good</td>\n",
              "      <td>other</td>\n",
              "      <td>al</td>\n",
              "      <td>18590</td>\n",
              "    </tr>\n",
              "    <tr>\n",
              "      <th>2</th>\n",
              "      <td>2018.0</td>\n",
              "      <td>7885.0</td>\n",
              "      <td>good</td>\n",
              "      <td>other</td>\n",
              "      <td>al</td>\n",
              "      <td>21590</td>\n",
              "    </tr>\n",
              "    <tr>\n",
              "      <th>3</th>\n",
              "      <td>1995.0</td>\n",
              "      <td>215000.0</td>\n",
              "      <td>good</td>\n",
              "      <td>manual</td>\n",
              "      <td>al</td>\n",
              "      <td>3500</td>\n",
              "    </tr>\n",
              "    <tr>\n",
              "      <th>4</th>\n",
              "      <td>2003.0</td>\n",
              "      <td>236890.0</td>\n",
              "      <td>excellent</td>\n",
              "      <td>automatic</td>\n",
              "      <td>al</td>\n",
              "      <td>3950</td>\n",
              "    </tr>\n",
              "  </tbody>\n",
              "</table>\n",
              "</div>\n",
              "    <div class=\"colab-df-buttons\">\n",
              "\n",
              "  <div class=\"colab-df-container\">\n",
              "    <button class=\"colab-df-convert\" onclick=\"convertToInteractive('df-8e36e1a4-8af0-4972-890e-60df12207350')\"\n",
              "            title=\"Convert this dataframe to an interactive table.\"\n",
              "            style=\"display:none;\">\n",
              "\n",
              "  <svg xmlns=\"http://www.w3.org/2000/svg\" height=\"24px\" viewBox=\"0 -960 960 960\">\n",
              "    <path d=\"M120-120v-720h720v720H120Zm60-500h600v-160H180v160Zm220 220h160v-160H400v160Zm0 220h160v-160H400v160ZM180-400h160v-160H180v160Zm440 0h160v-160H620v160ZM180-180h160v-160H180v160Zm440 0h160v-160H620v160Z\"/>\n",
              "  </svg>\n",
              "    </button>\n",
              "\n",
              "  <style>\n",
              "    .colab-df-container {\n",
              "      display:flex;\n",
              "      gap: 12px;\n",
              "    }\n",
              "\n",
              "    .colab-df-convert {\n",
              "      background-color: #E8F0FE;\n",
              "      border: none;\n",
              "      border-radius: 50%;\n",
              "      cursor: pointer;\n",
              "      display: none;\n",
              "      fill: #1967D2;\n",
              "      height: 32px;\n",
              "      padding: 0 0 0 0;\n",
              "      width: 32px;\n",
              "    }\n",
              "\n",
              "    .colab-df-convert:hover {\n",
              "      background-color: #E2EBFA;\n",
              "      box-shadow: 0px 1px 2px rgba(60, 64, 67, 0.3), 0px 1px 3px 1px rgba(60, 64, 67, 0.15);\n",
              "      fill: #174EA6;\n",
              "    }\n",
              "\n",
              "    .colab-df-buttons div {\n",
              "      margin-bottom: 4px;\n",
              "    }\n",
              "\n",
              "    [theme=dark] .colab-df-convert {\n",
              "      background-color: #3B4455;\n",
              "      fill: #D2E3FC;\n",
              "    }\n",
              "\n",
              "    [theme=dark] .colab-df-convert:hover {\n",
              "      background-color: #434B5C;\n",
              "      box-shadow: 0px 1px 3px 1px rgba(0, 0, 0, 0.15);\n",
              "      filter: drop-shadow(0px 1px 2px rgba(0, 0, 0, 0.3));\n",
              "      fill: #FFFFFF;\n",
              "    }\n",
              "  </style>\n",
              "\n",
              "    <script>\n",
              "      const buttonEl =\n",
              "        document.querySelector('#df-8e36e1a4-8af0-4972-890e-60df12207350 button.colab-df-convert');\n",
              "      buttonEl.style.display =\n",
              "        google.colab.kernel.accessAllowed ? 'block' : 'none';\n",
              "\n",
              "      async function convertToInteractive(key) {\n",
              "        const element = document.querySelector('#df-8e36e1a4-8af0-4972-890e-60df12207350');\n",
              "        const dataTable =\n",
              "          await google.colab.kernel.invokeFunction('convertToInteractive',\n",
              "                                                    [key], {});\n",
              "        if (!dataTable) return;\n",
              "\n",
              "        const docLinkHtml = 'Like what you see? Visit the ' +\n",
              "          '<a target=\"_blank\" href=https://colab.research.google.com/notebooks/data_table.ipynb>data table notebook</a>'\n",
              "          + ' to learn more about interactive tables.';\n",
              "        element.innerHTML = '';\n",
              "        dataTable['output_type'] = 'display_data';\n",
              "        await google.colab.output.renderOutput(dataTable, element);\n",
              "        const docLink = document.createElement('div');\n",
              "        docLink.innerHTML = docLinkHtml;\n",
              "        element.appendChild(docLink);\n",
              "      }\n",
              "    </script>\n",
              "  </div>\n",
              "\n",
              "\n",
              "    <div id=\"df-85025700-16d2-4379-81a0-482018070587\">\n",
              "      <button class=\"colab-df-quickchart\" onclick=\"quickchart('df-85025700-16d2-4379-81a0-482018070587')\"\n",
              "                title=\"Suggest charts\"\n",
              "                style=\"display:none;\">\n",
              "\n",
              "<svg xmlns=\"http://www.w3.org/2000/svg\" height=\"24px\"viewBox=\"0 0 24 24\"\n",
              "     width=\"24px\">\n",
              "    <g>\n",
              "        <path d=\"M19 3H5c-1.1 0-2 .9-2 2v14c0 1.1.9 2 2 2h14c1.1 0 2-.9 2-2V5c0-1.1-.9-2-2-2zM9 17H7v-7h2v7zm4 0h-2V7h2v10zm4 0h-2v-4h2v4z\"/>\n",
              "    </g>\n",
              "</svg>\n",
              "      </button>\n",
              "\n",
              "<style>\n",
              "  .colab-df-quickchart {\n",
              "      --bg-color: #E8F0FE;\n",
              "      --fill-color: #1967D2;\n",
              "      --hover-bg-color: #E2EBFA;\n",
              "      --hover-fill-color: #174EA6;\n",
              "      --disabled-fill-color: #AAA;\n",
              "      --disabled-bg-color: #DDD;\n",
              "  }\n",
              "\n",
              "  [theme=dark] .colab-df-quickchart {\n",
              "      --bg-color: #3B4455;\n",
              "      --fill-color: #D2E3FC;\n",
              "      --hover-bg-color: #434B5C;\n",
              "      --hover-fill-color: #FFFFFF;\n",
              "      --disabled-bg-color: #3B4455;\n",
              "      --disabled-fill-color: #666;\n",
              "  }\n",
              "\n",
              "  .colab-df-quickchart {\n",
              "    background-color: var(--bg-color);\n",
              "    border: none;\n",
              "    border-radius: 50%;\n",
              "    cursor: pointer;\n",
              "    display: none;\n",
              "    fill: var(--fill-color);\n",
              "    height: 32px;\n",
              "    padding: 0;\n",
              "    width: 32px;\n",
              "  }\n",
              "\n",
              "  .colab-df-quickchart:hover {\n",
              "    background-color: var(--hover-bg-color);\n",
              "    box-shadow: 0 1px 2px rgba(60, 64, 67, 0.3), 0 1px 3px 1px rgba(60, 64, 67, 0.15);\n",
              "    fill: var(--button-hover-fill-color);\n",
              "  }\n",
              "\n",
              "  .colab-df-quickchart-complete:disabled,\n",
              "  .colab-df-quickchart-complete:disabled:hover {\n",
              "    background-color: var(--disabled-bg-color);\n",
              "    fill: var(--disabled-fill-color);\n",
              "    box-shadow: none;\n",
              "  }\n",
              "\n",
              "  .colab-df-spinner {\n",
              "    border: 2px solid var(--fill-color);\n",
              "    border-color: transparent;\n",
              "    border-bottom-color: var(--fill-color);\n",
              "    animation:\n",
              "      spin 1s steps(1) infinite;\n",
              "  }\n",
              "\n",
              "  @keyframes spin {\n",
              "    0% {\n",
              "      border-color: transparent;\n",
              "      border-bottom-color: var(--fill-color);\n",
              "      border-left-color: var(--fill-color);\n",
              "    }\n",
              "    20% {\n",
              "      border-color: transparent;\n",
              "      border-left-color: var(--fill-color);\n",
              "      border-top-color: var(--fill-color);\n",
              "    }\n",
              "    30% {\n",
              "      border-color: transparent;\n",
              "      border-left-color: var(--fill-color);\n",
              "      border-top-color: var(--fill-color);\n",
              "      border-right-color: var(--fill-color);\n",
              "    }\n",
              "    40% {\n",
              "      border-color: transparent;\n",
              "      border-right-color: var(--fill-color);\n",
              "      border-top-color: var(--fill-color);\n",
              "    }\n",
              "    60% {\n",
              "      border-color: transparent;\n",
              "      border-right-color: var(--fill-color);\n",
              "    }\n",
              "    80% {\n",
              "      border-color: transparent;\n",
              "      border-right-color: var(--fill-color);\n",
              "      border-bottom-color: var(--fill-color);\n",
              "    }\n",
              "    90% {\n",
              "      border-color: transparent;\n",
              "      border-bottom-color: var(--fill-color);\n",
              "    }\n",
              "  }\n",
              "</style>\n",
              "\n",
              "      <script>\n",
              "        async function quickchart(key) {\n",
              "          const quickchartButtonEl =\n",
              "            document.querySelector('#' + key + ' button');\n",
              "          quickchartButtonEl.disabled = true;  // To prevent multiple clicks.\n",
              "          quickchartButtonEl.classList.add('colab-df-spinner');\n",
              "          try {\n",
              "            const charts = await google.colab.kernel.invokeFunction(\n",
              "                'suggestCharts', [key], {});\n",
              "          } catch (error) {\n",
              "            console.error('Error during call to suggestCharts:', error);\n",
              "          }\n",
              "          quickchartButtonEl.classList.remove('colab-df-spinner');\n",
              "          quickchartButtonEl.classList.add('colab-df-quickchart-complete');\n",
              "        }\n",
              "        (() => {\n",
              "          let quickchartButtonEl =\n",
              "            document.querySelector('#df-85025700-16d2-4379-81a0-482018070587 button');\n",
              "          quickchartButtonEl.style.display =\n",
              "            google.colab.kernel.accessAllowed ? 'block' : 'none';\n",
              "        })();\n",
              "      </script>\n",
              "    </div>\n",
              "\n",
              "    </div>\n",
              "  </div>\n"
            ],
            "application/vnd.google.colaboratory.intrinsic+json": {
              "type": "dataframe",
              "variable_name": "df",
              "summary": "{\n  \"name\": \"df\",\n  \"rows\": 5784,\n  \"fields\": [\n    {\n      \"column\": \"year\",\n      \"properties\": {\n        \"dtype\": \"number\",\n        \"std\": 5.916891103997736,\n        \"min\": 1975.0,\n        \"max\": 2022.0,\n        \"num_unique_values\": 44,\n        \"samples\": [\n          1980.0,\n          1997.0,\n          1989.0\n        ],\n        \"semantic_type\": \"\",\n        \"description\": \"\"\n      }\n    },\n    {\n      \"column\": \"odometer\",\n      \"properties\": {\n        \"dtype\": \"number\",\n        \"std\": 72161.7580620733,\n        \"min\": 0.0,\n        \"max\": 2009992.0,\n        \"num_unique_values\": 2569,\n        \"samples\": [\n          106359.0,\n          107428.0,\n          172011.0\n        ],\n        \"semantic_type\": \"\",\n        \"description\": \"\"\n      }\n    },\n    {\n      \"column\": \"condition\",\n      \"properties\": {\n        \"dtype\": \"category\",\n        \"num_unique_values\": 6,\n        \"samples\": [\n          \"good\",\n          \"excellent\",\n          \"new\"\n        ],\n        \"semantic_type\": \"\",\n        \"description\": \"\"\n      }\n    },\n    {\n      \"column\": \"transmission\",\n      \"properties\": {\n        \"dtype\": \"category\",\n        \"num_unique_values\": 3,\n        \"samples\": [\n          \"other\",\n          \"manual\",\n          \"automatic\"\n        ],\n        \"semantic_type\": \"\",\n        \"description\": \"\"\n      }\n    },\n    {\n      \"column\": \"state\",\n      \"properties\": {\n        \"dtype\": \"category\",\n        \"num_unique_values\": 51,\n        \"samples\": [\n          \"tx\",\n          \"sc\",\n          \"va\"\n        ],\n        \"semantic_type\": \"\",\n        \"description\": \"\"\n      }\n    },\n    {\n      \"column\": \"price\",\n      \"properties\": {\n        \"dtype\": \"number\",\n        \"std\": 8210,\n        \"min\": 0,\n        \"max\": 43995,\n        \"num_unique_values\": 1075,\n        \"samples\": [\n          19998,\n          5300,\n          12988\n        ],\n        \"semantic_type\": \"\",\n        \"description\": \"\"\n      }\n    }\n  ]\n}"
            }
          },
          "metadata": {},
          "execution_count": 7
        }
      ]
    },
    {
      "cell_type": "code",
      "source": [],
      "metadata": {
        "id": "fwr2wJfSHVWC"
      },
      "execution_count": 7,
      "outputs": []
    },
    {
      "cell_type": "code",
      "source": [
        "# ─── Cell 3: Baseline Model (year + odometer only) ─────────────────────────────\n",
        "# Features & target\n",
        "X = df[['year', 'odometer']]\n",
        "y = df['price']\n",
        "\n",
        "# Split\n",
        "X_train, X_test, y_train, y_test = train_test_split(\n",
        "    X, y, test_size=0.20, random_state=42\n",
        ")\n",
        "\n",
        "# Train a simple XGBoost regressor\n",
        "baseline = xgb.XGBRegressor(\n",
        "    n_estimators=100,\n",
        "    learning_rate=0.1,\n",
        "    max_depth=4,\n",
        "    random_state=42\n",
        ")\n",
        "baseline.fit(X_train, y_train)\n",
        "\n",
        "# Evaluate\n",
        "y_pred = baseline.predict(X_test)\n",
        "rmse = np.sqrt(mean_squared_error(y_test, y_pred))\n",
        "print(f\"Baseline RMSE: ${rmse:,.0f}\")\n"
      ],
      "metadata": {
        "id": "1aOdEE3VWevy",
        "outputId": "c23f929a-dd66-4808-aad3-ca64037dc5e3",
        "colab": {
          "base_uri": "https://localhost:8080/"
        }
      },
      "execution_count": 8,
      "outputs": [
        {
          "output_type": "stream",
          "name": "stdout",
          "text": [
            "Baseline RMSE: $4,964\n"
          ]
        }
      ]
    },
    {
      "cell_type": "code",
      "source": [
        "# ─── Cell 4 (fixed): Pipeline with Categoricals & direct XGBoost predict ────────\n",
        "from sklearn.preprocessing import OneHotEncoder\n",
        "from sklearn.compose import ColumnTransformer\n",
        "from sklearn.pipeline import Pipeline\n",
        "from sklearn.model_selection import train_test_split\n",
        "import xgboost as xgb\n",
        "import numpy as np\n",
        "from sklearn.metrics import mean_squared_error\n",
        "\n",
        "# 4.1 Define numeric & categorical feature lists\n",
        "numeric_features     = ['year', 'odometer']\n",
        "categorical_features = ['condition', 'transmission', 'state']\n",
        "\n",
        "# 4.2 Reconstruct X and y to include categoricals\n",
        "X = df[numeric_features + categorical_features]\n",
        "y = df['price']\n",
        "\n",
        "# 4.3 New train/test split\n",
        "X_train, X_test, y_train, y_test = train_test_split(\n",
        "    X, y, test_size=0.20, random_state=42\n",
        ")\n",
        "\n",
        "# 4.4 Build the preprocessor\n",
        "preprocessor = ColumnTransformer([\n",
        "    ('num', 'passthrough', numeric_features),\n",
        "    ('cat', OneHotEncoder(handle_unknown='ignore'), categorical_features),\n",
        "])\n",
        "\n",
        "# 4.5 Full pipeline: preprocessing + XGBoost\n",
        "pipeline = Pipeline([\n",
        "    ('pre', preprocessor),\n",
        "    ('xgb', xgb.XGBRegressor(\n",
        "        n_estimators=100,\n",
        "        learning_rate=0.1,\n",
        "        max_depth=4,\n",
        "        random_state=42\n",
        "    ))\n",
        "])\n",
        "\n",
        "# 4.6 Train the model\n",
        "pipeline.fit(X_train, y_train)\n",
        "\n",
        "# 4.7 Preprocess X_test manually\n",
        "X_test_pre = preprocessor.transform(X_test)\n",
        "\n",
        "# 4.8 Create DMatrix and predict with the Booster\n",
        "dtest   = xgb.DMatrix(X_test_pre)\n",
        "booster = pipeline.named_steps['xgb'].get_booster()\n",
        "y_pred2 = booster.predict(dtest)\n",
        "\n",
        "# 4.9 Compute and print RMSE\n",
        "rmse2 = np.sqrt(mean_squared_error(y_test, y_pred2))\n",
        "print(f\"With categoricals RMSE: ${rmse2:,.0f}\")\n"
      ],
      "metadata": {
        "id": "TId_DksXWhZf",
        "outputId": "f6df9a6a-ab51-44ed-accd-11f61f267f6e",
        "colab": {
          "base_uri": "https://localhost:8080/"
        }
      },
      "execution_count": 10,
      "outputs": [
        {
          "output_type": "stream",
          "name": "stdout",
          "text": [
            "With categoricals RMSE: $4,408\n"
          ]
        }
      ]
    },
    {
      "cell_type": "code",
      "source": [
        "pipe = pipeline\n",
        "import joblib, os\n",
        "os.makedirs(\"model\", exist_ok=True)\n",
        "joblib.dump(pipe, \"model/pipe.pkl\", protocol=4)\n",
        "print(\"✔ Saved model/pipe.pkl\")\n",
        "from google.colab import files\n",
        "files.download(\"model/pipe.pkl\")\n"
      ],
      "metadata": {
        "id": "4_aAADwiK3Eo",
        "outputId": "bd1e0f42-304d-4586-cb8b-5d98ab1ae9c9",
        "colab": {
          "base_uri": "https://localhost:8080/",
          "height": 34
        }
      },
      "execution_count": 11,
      "outputs": [
        {
          "output_type": "stream",
          "name": "stdout",
          "text": [
            "✔ Saved model/pipe.pkl\n"
          ]
        },
        {
          "output_type": "display_data",
          "data": {
            "text/plain": [
              "<IPython.core.display.Javascript object>"
            ],
            "application/javascript": [
              "\n",
              "    async function download(id, filename, size) {\n",
              "      if (!google.colab.kernel.accessAllowed) {\n",
              "        return;\n",
              "      }\n",
              "      const div = document.createElement('div');\n",
              "      const label = document.createElement('label');\n",
              "      label.textContent = `Downloading \"${filename}\": `;\n",
              "      div.appendChild(label);\n",
              "      const progress = document.createElement('progress');\n",
              "      progress.max = size;\n",
              "      div.appendChild(progress);\n",
              "      document.body.appendChild(div);\n",
              "\n",
              "      const buffers = [];\n",
              "      let downloaded = 0;\n",
              "\n",
              "      const channel = await google.colab.kernel.comms.open(id);\n",
              "      // Send a message to notify the kernel that we're ready.\n",
              "      channel.send({})\n",
              "\n",
              "      for await (const message of channel.messages) {\n",
              "        // Send a message to notify the kernel that we're ready.\n",
              "        channel.send({})\n",
              "        if (message.buffers) {\n",
              "          for (const buffer of message.buffers) {\n",
              "            buffers.push(buffer);\n",
              "            downloaded += buffer.byteLength;\n",
              "            progress.value = downloaded;\n",
              "          }\n",
              "        }\n",
              "      }\n",
              "      const blob = new Blob(buffers, {type: 'application/binary'});\n",
              "      const a = document.createElement('a');\n",
              "      a.href = window.URL.createObjectURL(blob);\n",
              "      a.download = filename;\n",
              "      div.appendChild(a);\n",
              "      a.click();\n",
              "      div.remove();\n",
              "    }\n",
              "  "
            ]
          },
          "metadata": {}
        },
        {
          "output_type": "display_data",
          "data": {
            "text/plain": [
              "<IPython.core.display.Javascript object>"
            ],
            "application/javascript": [
              "download(\"download_4b25c4b2-6894-44ca-8fa3-6ed1902c56d6\", \"pipe.pkl\", 168071)"
            ]
          },
          "metadata": {}
        }
      ]
    },
    {
      "cell_type": "code",
      "source": [
        "import sklearn, xgboost\n",
        "print(\"scikit-learn:\", sklearn.__version__)\n",
        "print(\"XGBoost:    \", xgboost.__version__)\n"
      ],
      "metadata": {
        "id": "a3M5MaQyH_pY"
      },
      "execution_count": null,
      "outputs": []
    },
    {
      "cell_type": "code",
      "source": [
        "# ─── Cell 5 (corrected): Hyperparameter Tuning ─────────────────────────────────\n",
        "from sklearn.model_selection import GridSearchCV\n",
        "\n",
        "param_grid = {\n",
        "    'xgb__n_estimators':  [50, 100, 200],\n",
        "    'xgb__max_depth':     [3, 4, 6],\n",
        "    'xgb__learning_rate': [0.01, 0.1, 0.2],\n",
        "}\n",
        "\n",
        "grid = GridSearchCV(\n",
        "    pipeline,\n",
        "    param_grid,\n",
        "    cv=3,\n",
        "    scoring='neg_root_mean_squared_error',\n",
        "    n_jobs=1,\n",
        "    verbose=1,\n",
        "    error_score='raise'\n",
        ")\n",
        "\n",
        "grid.fit(X_train, y_train)\n",
        "print(\"Best params:\", grid.best_params_)\n",
        "\n",
        "best_cv_rmse = -grid.best_score_\n",
        "print(f\"CV RMSE (best): ${best_cv_rmse:,.0f}\")\n",
        "\n",
        "# Final test‐set evaluation\n",
        "y_final = grid.best_estimator_.predict(X_test)\n",
        "final_rmse = np.sqrt(mean_squared_error(y_test, y_final))\n",
        "print(f\"Test RMSE (tuned): ${final_rmse:,.0f}\")\n"
      ],
      "metadata": {
        "id": "MMnbUIRwWh36"
      },
      "execution_count": null,
      "outputs": []
    },
    {
      "cell_type": "code",
      "source": [
        "# ─── Cell 6 (corrected): Feature Importance ────────────────────────────────────\n",
        "import matplotlib.pyplot as plt\n",
        "\n",
        "# Extract one‐hot encoder from the best pipeline\n",
        "ohe = grid.best_estimator_.named_steps['pre'].named_transformers_['cat']\n",
        "cat_names = ohe.get_feature_names_out(categorical_features)\n",
        "\n",
        "# Combine with numeric feature names\n",
        "feature_names = numeric_features + list(cat_names)\n",
        "\n",
        "# Get importances\n",
        "importances = grid.best_estimator_.named_steps['xgb'].feature_importances_\n",
        "imp_df = pd.Series(importances, index=feature_names).sort_values(ascending=False)\n",
        "\n",
        "# Plot top 10 features\n",
        "plt.figure()\n",
        "imp_df.head(10).plot(kind='barh')\n",
        "plt.title('Top 10 Feature Importances')\n",
        "plt.xlabel('Importance')\n",
        "plt.gca().invert_yaxis()\n",
        "plt.tight_layout()\n",
        "plt.show()\n"
      ],
      "metadata": {
        "id": "1K4tCs32WpnN"
      },
      "execution_count": null,
      "outputs": []
    },
    {
      "cell_type": "markdown",
      "source": [
        "import joblib, os\n",
        "\n",
        "final_pipe = grid.best_estimator_      # ← if your model var is named differently, adjust\n",
        "\n",
        "os.makedirs(\"model\", exist_ok=True)\n",
        "joblib.dump(final_pipe, \"model/pipe.pkl\", protocol=4)   # ← protocol 4 = Py-3.8–3.11 compatible\n",
        "print(\"✔ Saved model/pipe.pkl with protocol 4\")\n"
      ],
      "metadata": {
        "id": "91Gd48WotF1i"
      }
    },
    {
      "cell_type": "code",
      "source": [
        "from google.colab import files\n",
        "files.download(\"model/pipe.pkl\")       # you’ll get a fresh pipe.pkl in Downloads\n"
      ],
      "metadata": {
        "id": "JLwpba0YxLvY"
      },
      "execution_count": null,
      "outputs": []
    },
    {
      "cell_type": "code",
      "source": [],
      "metadata": {
        "id": "x67WcSuCz37k"
      },
      "execution_count": null,
      "outputs": []
    }
  ]
}